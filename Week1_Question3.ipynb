{
  "nbformat": 4,
  "nbformat_minor": 0,
  "metadata": {
    "colab": {
      "provenance": []
    },
    "kernelspec": {
      "name": "python3",
      "display_name": "Python 3"
    },
    "language_info": {
      "name": "python"
    }
  },
  "cells": [
    {
      "cell_type": "code",
      "execution_count": 2,
      "metadata": {
        "colab": {
          "base_uri": "https://localhost:8080/",
          "height": 715
        },
        "id": "xMek10Cmfpnh",
        "outputId": "b47f08af-a4f2-4ad6-d9ac-363d21f95326"
      },
      "outputs": [
        {
          "output_type": "stream",
          "name": "stdout",
          "text": [
            "Epoch 0: Loss = 53220992377.85487\n",
            "Epoch 100: Loss = 6737303744.01539\n",
            "Epoch 200: Loss = 5599774961.182909\n",
            "Epoch 300: Loss = 5381888601.142737\n",
            "Epoch 400: Loss = 5239663147.380758\n",
            "Epoch 500: Loss = 5138392553.472855\n",
            "Epoch 600: Loss = 5065436467.984563\n",
            "Epoch 700: Loss = 5012473672.264975\n",
            "Epoch 800: Loss = 4973773602.1691475\n",
            "Epoch 900: Loss = 4945328285.352403\n",
            "\n",
            "Final Weights: [-64096.56417353 -68768.86959372  17599.22295564 -11517.75616937\n",
            "  27634.22020357 -37736.90324659  28910.68147547  74206.94841544]\n",
            "Final Bias: 205846.27465356735\n"
          ]
        },
        {
          "output_type": "display_data",
          "data": {
            "text/plain": [
              "<Figure size 640x480 with 1 Axes>"
            ],
            "image/png": "[encoded data removed]"
          },
          "metadata": {}
        }
      ],
      "source": [
        "import numpy as np\n",
        "import pandas as pd\n",
        "import matplotlib.pyplot as plt\n",
        "\n",
        "#Loading the dataset from a CSV file and separate features and target.\n",
        "def load_data(file_path):\n",
        "\n",
        "\n",
        "    data = pd.read_csv(file_path)\n",
        "    y = data[\"median_house_value\"].values  # Target aka y column\n",
        "    X = data.drop(columns=[\"median_house_value\"]).values  # Feature columns\n",
        "    return X, y\n",
        "\n",
        " #“loss” - Takes in the predictions and the true labels and returns the MSE loss (Mean Squared Error)\n",
        "def loss(y_pred, y_true):\n",
        "    return np.mean((y_pred - y_true) ** 2)\n",
        "\n",
        "#“y_prediction” - Takes in the arrays a(weight vector), x(input vector), b(bias vector) and returns the predicted value\n",
        "def y_prediction(X, weights, bias):\n",
        "    return np.dot(X, weights) + bias\n",
        "\n",
        "#“gradient” - Takes in the arrays a(weight vector), x(input vector), b(bias vector) and y_true (true label vector), returns the gradient\n",
        "#the gradient is the differential of the loss function\n",
        "def gradient(X, y_true, weights, bias):\n",
        "    n_samples = len(y_true)\n",
        "    y_pred = y_prediction(X, weights, bias)\n",
        "    error = y_pred - y_true\n",
        "\n",
        "    weight_gradient = (2 / n_samples) * np.dot(X.T, error)\n",
        "    bias_gradient = (2 / n_samples) * np.sum(error)\n",
        "\n",
        "    return weight_gradient, bias_gradient\n",
        "\n",
        "#\"gradient descent\"- to compute the gradient and update the weights accordingly\n",
        "def gradient_descent(X, y_true, learning_rate=0.01, epochs=1000):\n",
        "    n_features = X.shape[1]\n",
        "    weights = np.zeros(n_features)\n",
        "    bias = 0\n",
        "    loss_history = []\n",
        "\n",
        "    for epoch in range(epochs):\n",
        "        # Compute gradients\n",
        "        weight_gradient, bias_gradient = gradient(X, y_true, weights, bias)\n",
        "\n",
        "        # Update weights and bias\n",
        "        weights -= learning_rate * weight_gradient\n",
        "        bias -= learning_rate * bias_gradient\n",
        "\n",
        "        # Compute loss and store it\n",
        "        y_pred = y_prediction(X, weights, bias)\n",
        "        current_loss = loss(y_pred, y_true)\n",
        "        loss_history.append(current_loss)\n",
        "\n",
        "        # Print loss every 100 epochs\n",
        "        if epoch % 100 == 0:\n",
        "            print(f\"Epoch {epoch}: Loss = {current_loss}\")\n",
        "\n",
        "    return weights, bias, loss_history\n",
        "\n",
        "\n",
        "if __name__ == \"__main__\":\n",
        "    file_path = '/content/sample_data/california_housing_test.csv'\n",
        "    X, y = load_data(file_path)\n",
        "\n",
        "    # Normalizing features for better performance\n",
        "    X = (X - np.mean(X, axis=0)) / np.std(X, axis=0)\n",
        "\n",
        "   # Performing gradient descent\n",
        "    learning_rate = 0.01\n",
        "    epochs = 1000\n",
        "    weights, bias, train_loss = gradient_descent(X, y, learning_rate, epochs)\n",
        "\n",
        "    print(\"\\nFinal Weights:\", weights)\n",
        "    print(\"Final Bias:\", bias)\n",
        "\n",
        "    # Plotting the loss curve\n",
        "    plt.plot([i for i in range(epochs)], train_loss)\n",
        "    plt.title(\"Training Loss\")\n",
        "    plt.xlabel(\"Epochs\")\n",
        "    plt.ylabel(\"Loss\")\n",
        "    plt.show()\n"
      ]
    }
  ]
}