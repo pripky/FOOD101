{
  "nbformat": 4,
  "nbformat_minor": 0,
  "metadata": {
    "colab": {
      "provenance": []
    },
    "kernelspec": {
      "name": "python3",
      "display_name": "Python 3"
    },
    "language_info": {
      "name": "python"
    }
  },
  "cells": [
    {
      "cell_type": "code",
      "execution_count": 15,
      "metadata": {
        "id": "0wzwHhzbVjVW"
      },
      "outputs": [],
      "source": [
        "import cv2\n",
        "import numpy as np\n",
        "import matplotlib.pyplot as plt\n",
        "\n",
        "def apply_kernel(image, kernel):\n",
        "\n",
        "    return cv2.filter2D(image, -1, kernel)\n",
        "\n",
        "def display_images(original, sharp, blurry, edges):\n",
        "\n",
        "    plt.figure(figsize=(12, 12))\n",
        "    plt.subplot(2, 2, 1)\n",
        "    plt.imshow(cv2.cvtColor(original, cv2.COLOR_BGR2RGB))\n",
        "    plt.title(\"Original Image\")\n",
        "    plt.axis(\"off\")\n",
        "\n",
        "    plt.subplot(2, 2, 2)\n",
        "    plt.imshow(cv2.cvtColor(sharp, cv2.COLOR_BGR2RGB))\n",
        "    plt.title(\"Sharpened Image\")\n",
        "    plt.axis(\"off\")\n",
        "\n",
        "    plt.subplot(2, 2, 3)\n",
        "    plt.imshow(cv2.cvtColor(blurry, cv2.COLOR_BGR2RGB))\n",
        "    plt.title(\"Blurred Image\")\n",
        "    plt.axis(\"off\")\n",
        "\n",
        "    plt.subplot(2, 2, 4)\n",
        "    plt.imshow(cv2.cvtColor(edges, cv2.COLOR_BGR2RGB))\n",
        "    plt.title(\"Edges Highlighted\")\n",
        "    plt.axis(\"off\")\n",
        "\n",
        "    plt.show()\n",
        "\n",
        "def main(image_path):\n",
        "    # Reading the input image\n",
        "  image = cv2.imread(image_path)\n",
        "  if image is None:\n",
        "    print(f\"Error: Could not load image from {image_path}. Please check the path and file permissions.\")\n",
        "    exit()\n",
        "\n",
        "    # Sharpening kernel\n",
        "    sharpening_kernel = np.array([[0, -1, 0],\n",
        "                                  [-1, 5,-1],\n",
        "                                  [0, -1, 0]])\n",
        "\n",
        "    # Blurring kernel (Gaussian blur)\n",
        "    blurring_kernel = np.ones((5, 5), np.float32) / 25\n",
        "\n",
        "    # Edge detection kernel (Sobel)\n",
        "    edge_detection_kernel = np.array([[-1, -1, -1],\n",
        "                                      [-1,  8, -1],\n",
        "                                      [-1, -1, -1]])\n",
        "\n",
        "    # Apply kernels\n",
        "    sharpened_image = apply_kernel(image, sharpening_kernel)\n",
        "    blurred_image = apply_kernel(image, blurring_kernel)\n",
        "    edges_highlighted_image = apply_kernel(image, edge_detection_kernel)\n",
        "\n",
        "    # Displaying results\n",
        "    display_images(image, sharpened_image, blurred_image, edges_highlighted_image)\n",
        "\n",
        "if __name__ == \"__main__\":\n",
        "    image_path = '/content/download.jpg'\n",
        "    main(image_path)\n"
      ]
    }
  ]
}