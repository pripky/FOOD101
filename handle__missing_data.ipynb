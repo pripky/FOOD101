{
  "nbformat": 4,
  "nbformat_minor": 0,
  "metadata": {
    "colab": {
      "provenance": []
    },
    "kernelspec": {
      "name": "python3",
      "display_name": "Python 3"
    },
    "language_info": {
      "name": "python"
    }
  },
  "cells": [
    {
      "cell_type": "code",
      "execution_count": 8,
      "metadata": {
        "colab": {
          "base_uri": "https://localhost:8080/"
        },
        "id": "TfoPruIVa9aT",
        "outputId": "c4f16fac-31d9-4f64-b4dc-035b961186ef"
      },
      "outputs": [
        {
          "output_type": "stream",
          "name": "stdout",
          "text": [
            "Null values in each column before cleaning:\n",
            "Student Name      12\n",
            "Course             3\n",
            "Marks (%)         13\n",
            "Attendance (%)    17\n",
            "dtype: int64\n",
            "Cleaned data saved to cleaned_IITK_Courses_Report.csv.\n"
          ]
        }
      ],
      "source": [
        "import pandas as pd\n",
        "import numpy as np\n",
        "from scipy.stats import gmean\n",
        "\n",
        "#Loading the CSV file into a Pandas DataFrame\n",
        "file_path = \"IITK_Courses_Report.csv\"\n",
        "df = pd.read_csv(file_path)\n",
        "\n",
        "#Checking for null values in all columns\n",
        "print(\"Null values in each column before cleaning:\")\n",
        "print(df.isnull().sum())\n",
        "\n",
        "#Deleting rows where non-numerical columns contain null values\n",
        "non_numeric_columns = df.select_dtypes(include=['object']).columns\n",
        "df = df.dropna(subset=non_numeric_columns)\n",
        "\n",
        "#Replacing null values in numerical columns with geometric mean\n",
        "numerical_columns = df.select_dtypes(include=[np.number]).columns\n",
        "for col in numerical_columns:\n",
        "    for idx in df[df[col].isnull()].index:\n",
        "        # Get rows immediately above and below the null value\n",
        "        if idx > 0 and idx < len(df) - 1:\n",
        "            above = df.loc[idx - 1, col]\n",
        "            below = df.loc[idx + 1, col]\n",
        "            if not np.isnan(above) and not np.isnan(below):\n",
        "                df.loc[idx, col] = gmean([above, below])\n",
        "            else:\n",
        "                df.loc[idx, col] = np.nanmean(df[col])\n",
        "        else:\n",
        "            df.loc[idx, col] = np.nanmean(df[col])  # edge cases\n",
        "\n",
        "#Saving the cleaned DataFrame back to a new CSV file\n",
        "output_file = \"cleaned_IITK_Courses_Report.csv\"\n",
        "df.to_csv(output_file, index=False)\n",
        "\n",
        "print(f\"Cleaned data saved to {output_file}.\")\n",
        "\n"
      ]
    }
  ]
}